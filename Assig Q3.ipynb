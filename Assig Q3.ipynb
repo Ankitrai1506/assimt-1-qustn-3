{
 "cells": [
  {
   "cell_type": "markdown",
   "id": "d2c65119",
   "metadata": {},
   "source": [
    "Write a Python program to count the number of even and odd numbers from a series of numbers.\n",
    "\n",
    "\n",
    "\n",
    "Sample numbers : numbers = (1, 2, 3, 4, 5, 6, 7, 8, 9) \n",
    "\n",
    "Expected Output :\n",
    "\n",
    "Number of even numbers : 4\n",
    "\n",
    "Number of odd numbers : 5\n",
    "\n"
   ]
  },
  {
   "cell_type": "code",
   "execution_count": 2,
   "id": "f8cff20d",
   "metadata": {},
   "outputs": [
    {
     "name": "stdout",
     "output_type": "stream",
     "text": [
      "TOTAL EVEN NO IS 5\n",
      "TOTAL ODD NO IS 5\n"
     ]
    }
   ],
   "source": [
    "num_list=[11,12,13,14,15,16,17,18,19,20]\n",
    "even_count=0\n",
    "odd_count=0\n",
    "for i in num_list:\n",
    "    if i%2==0:\n",
    "        even_count+=1\n",
    "    else:\n",
    "        odd_count+=1\n",
    "print(\"TOTAL EVEN NO IS\",even_count)\n",
    "print(\"TOTAL ODD NO IS\",odd_count)\n",
    "    "
   ]
  }
 ],
 "metadata": {
  "kernelspec": {
   "display_name": "Python 3 (ipykernel)",
   "language": "python",
   "name": "python3"
  },
  "language_info": {
   "codemirror_mode": {
    "name": "ipython",
    "version": 3
   },
   "file_extension": ".py",
   "mimetype": "text/x-python",
   "name": "python",
   "nbconvert_exporter": "python",
   "pygments_lexer": "ipython3",
   "version": "3.10.9"
  }
 },
 "nbformat": 4,
 "nbformat_minor": 5
}
